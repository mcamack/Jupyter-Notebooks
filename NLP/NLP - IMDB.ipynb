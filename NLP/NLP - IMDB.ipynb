{
 "cells": [
  {
   "cell_type": "markdown",
   "metadata": {},
   "source": [
    "# IMBD Dataset"
   ]
  },
  {
   "cell_type": "code",
   "execution_count": 1,
   "metadata": {},
   "outputs": [
    {
     "name": "stderr",
     "output_type": "stream",
     "text": [
      "Using TensorFlow backend.\n"
     ]
    },
    {
     "name": "stdout",
     "output_type": "stream",
     "text": [
      "Loading data...\n",
      "25000 train sequences\n",
      "25000 test sequences\n",
      "Pad sequences (samples x time)\n",
      "input_train shape: (25000, 500)\n",
      "input_test shape: (25000, 500)\n"
     ]
    }
   ],
   "source": [
    "from keras.datasets import imdb\n",
    "from keras.preprocessing import sequence\n",
    "\n",
    "max_features = 15000\n",
    "maxlen = 500\n",
    "batch_size = 32\n",
    "\n",
    "print('Loading data...')\n",
    "(input_train, y_train), (input_test, y_test) = imdb.load_data(\n",
    "     num_words=max_features)\n",
    "print(len(input_train), 'train sequences')\n",
    "print(len(input_test), 'test sequences')\n",
    "\n",
    "print('Pad sequences (samples x time)')\n",
    "input_train = sequence.pad_sequences(input_train, maxlen=maxlen)\n",
    "input_test = sequence.pad_sequences(input_test, maxlen=maxlen)\n",
    "print('input_train shape:', input_train.shape)\n",
    "print('input_test shape:', input_test.shape)"
   ]
  },
  {
   "cell_type": "code",
   "execution_count": 2,
   "metadata": {},
   "outputs": [
    {
     "name": "stdout",
     "output_type": "stream",
     "text": [
      "WARNING:tensorflow:Large dropout rate: 0.7 (>0.5). In TensorFlow 2.x, dropout() uses dropout rate instead of keep_prob. Please ensure that this is intended.\n",
      "WARNING:tensorflow:Large dropout rate: 0.7 (>0.5). In TensorFlow 2.x, dropout() uses dropout rate instead of keep_prob. Please ensure that this is intended.\n",
      "WARNING:tensorflow:Large dropout rate: 0.7 (>0.5). In TensorFlow 2.x, dropout() uses dropout rate instead of keep_prob. Please ensure that this is intended.\n",
      "WARNING:tensorflow:Large dropout rate: 0.7 (>0.5). In TensorFlow 2.x, dropout() uses dropout rate instead of keep_prob. Please ensure that this is intended.\n",
      "Model: \"sequential_1\"\n",
      "_________________________________________________________________\n",
      "Layer (type)                 Output Shape              Param #   \n",
      "=================================================================\n",
      "embedding_1 (Embedding)      (None, None, 32)          480000    \n",
      "_________________________________________________________________\n",
      "lstm_1 (LSTM)                (None, None, 32)          8320      \n",
      "_________________________________________________________________\n",
      "lstm_2 (LSTM)                (None, None, 32)          8320      \n",
      "_________________________________________________________________\n",
      "lstm_3 (LSTM)                (None, 32)                8320      \n",
      "_________________________________________________________________\n",
      "dense_1 (Dense)              (None, 1)                 33        \n",
      "=================================================================\n",
      "Total params: 504,993\n",
      "Trainable params: 504,993\n",
      "Non-trainable params: 0\n",
      "_________________________________________________________________\n"
     ]
    }
   ],
   "source": [
    "from keras import Sequential\n",
    "from keras.layers import LSTM, Embedding, Dense\n",
    "from keras.optimizers import RMSprop\n",
    "\n",
    "# import tensorflow as tf\n",
    "# strategy = tf.distribute.MirroredStrategy()\n",
    "# with strategy.scope():\n",
    "    \n",
    "model = Sequential()\n",
    "model.add(Embedding(max_features, 32))\n",
    "model.add(LSTM(32, dropout=0.0, recurrent_dropout=0.7, return_sequences=True))\n",
    "model.add(LSTM(32, dropout=0.0, recurrent_dropout=0.3, return_sequences=True))\n",
    "model.add(LSTM(32, dropout=0.0, recurrent_dropout=0.0))\n",
    "model.add(Dense(1, activation='sigmoid'))\n",
    "model.compile(optimizer=RMSprop(), loss='binary_crossentropy', metrics=['acc'])\n",
    "model.summary()"
   ]
  },
  {
   "cell_type": "code",
   "execution_count": 3,
   "metadata": {
    "scrolled": false
   },
   "outputs": [
    {
     "name": "stderr",
     "output_type": "stream",
     "text": [
      "C:\\Users\\mcama\\AppData\\Roaming\\Python\\Python36\\site-packages\\tensorflow_core\\python\\framework\\indexed_slices.py:424: UserWarning: Converting sparse IndexedSlices to a dense Tensor of unknown shape. This may consume a large amount of memory.\n",
      "  \"Converting sparse IndexedSlices to a dense Tensor of unknown shape. \"\n"
     ]
    },
    {
     "name": "stdout",
     "output_type": "stream",
     "text": [
      "Train on 20000 samples, validate on 5000 samples\n",
      "Epoch 1/20\n",
      "20000/20000 [==============================] - 19s 933us/step - loss: 0.6900 - acc: 0.5455 - val_loss: 0.6726 - val_acc: 0.6638\n",
      "Epoch 2/20\n",
      "20000/20000 [==============================] - 18s 886us/step - loss: 0.5943 - acc: 0.7071 - val_loss: 0.5159 - val_acc: 0.7458\n",
      "Epoch 3/20\n",
      "20000/20000 [==============================] - 18s 897us/step - loss: 0.4408 - acc: 0.8084 - val_loss: 0.4229 - val_acc: 0.8158\n",
      "Epoch 4/20\n",
      "20000/20000 [==============================] - 18s 901us/step - loss: 0.3736 - acc: 0.8447 - val_loss: 0.4038 - val_acc: 0.8294\n",
      "Epoch 5/20\n",
      "20000/20000 [==============================] - 18s 901us/step - loss: 0.3353 - acc: 0.8681 - val_loss: 0.3978 - val_acc: 0.8344\n",
      "Epoch 6/20\n",
      "20000/20000 [==============================] - 18s 902us/step - loss: 0.3048 - acc: 0.8805 - val_loss: 0.4006 - val_acc: 0.8284\n",
      "Epoch 7/20\n",
      "20000/20000 [==============================] - 18s 904us/step - loss: 0.2660 - acc: 0.9004 - val_loss: 0.4166 - val_acc: 0.8292\n",
      "Epoch 8/20\n",
      "20000/20000 [==============================] - 18s 901us/step - loss: 0.2613 - acc: 0.9033 - val_loss: 0.3785 - val_acc: 0.8410\n",
      "Epoch 9/20\n",
      "20000/20000 [==============================] - 18s 900us/step - loss: 0.2214 - acc: 0.9213 - val_loss: 0.5087 - val_acc: 0.7936\n",
      "Epoch 10/20\n",
      "20000/20000 [==============================] - 18s 898us/step - loss: 0.2159 - acc: 0.9226 - val_loss: 0.4509 - val_acc: 0.8226\n",
      "Epoch 11/20\n",
      "20000/20000 [==============================] - 18s 891us/step - loss: 0.2067 - acc: 0.9237 - val_loss: 0.4540 - val_acc: 0.8154\n",
      "Epoch 12/20\n",
      "20000/20000 [==============================] - 18s 889us/step - loss: 0.1750 - acc: 0.9414 - val_loss: 0.4070 - val_acc: 0.8428\n",
      "Epoch 13/20\n",
      "20000/20000 [==============================] - 18s 888us/step - loss: 0.1887 - acc: 0.9322 - val_loss: 0.4169 - val_acc: 0.8438\n",
      "Epoch 14/20\n",
      "20000/20000 [==============================] - 18s 891us/step - loss: 0.1658 - acc: 0.9423 - val_loss: 0.5636 - val_acc: 0.7956\n",
      "Epoch 15/20\n",
      "20000/20000 [==============================] - 18s 889us/step - loss: 0.1594 - acc: 0.9421 - val_loss: 0.4333 - val_acc: 0.8368\n",
      "Epoch 16/20\n",
      "20000/20000 [==============================] - 18s 889us/step - loss: 0.1423 - acc: 0.9527 - val_loss: 0.5339 - val_acc: 0.8188\n",
      "Epoch 17/20\n",
      "20000/20000 [==============================] - 18s 898us/step - loss: 0.1415 - acc: 0.9537 - val_loss: 0.4610 - val_acc: 0.8342\n",
      "Epoch 18/20\n",
      "20000/20000 [==============================] - 18s 900us/step - loss: 0.1215 - acc: 0.9602 - val_loss: 0.4919 - val_acc: 0.8332\n",
      "Epoch 19/20\n",
      "20000/20000 [==============================] - 18s 900us/step - loss: 0.1307 - acc: 0.9596 - val_loss: 0.5013 - val_acc: 0.8344\n",
      "Epoch 20/20\n",
      "20000/20000 [==============================] - 18s 893us/step - loss: 0.1066 - acc: 0.9667 - val_loss: 0.5398 - val_acc: 0.8308\n"
     ]
    }
   ],
   "source": [
    "history = model.fit(input_train, y_train, epochs=20, batch_size=1024, validation_split=0.2)"
   ]
  },
  {
   "cell_type": "code",
   "execution_count": 4,
   "metadata": {},
   "outputs": [],
   "source": [
    "# from keras import Sequential\n",
    "# from keras.layers import LSTM, Embedding, Dense\n",
    "# from keras.utils import multi_gpu_model\n",
    "\n",
    "# model = Sequential()\n",
    "# parallel_model = multi_gpu_model(model, gpus=2)\n",
    "\n",
    "# parallel_model.add(Embedding(max_features, 32))\n",
    "# parallel_model.add(LSTM(32))\n",
    "# parallel_model.add(Dense(1, activation='sigmoid'))\n",
    "\n",
    "# parallel_model.compile(optimizer='rmsprop', loss='binary_crossentropy', metrics=['acc'])\n",
    "# history = parallel_model.fit(input_train, y_train, epochs=10, batch_size=128, validation_split=0.2)"
   ]
  },
  {
   "cell_type": "code",
   "execution_count": 5,
   "metadata": {},
   "outputs": [
    {
     "data": {
      "image/png": "[encoded data removed]",
      "text/plain": [
       "<Figure size 432x288 with 1 Axes>"
      ]
     },
     "metadata": {
      "needs_background": "light"
     },
     "output_type": "display_data"
    },
    {
     "data": {
      "image/png": "[encoded data removed]",
      "text/plain": [
       "<Figure size 432x288 with 1 Axes>"
      ]
     },
     "metadata": {
      "needs_background": "light"
     },
     "output_type": "display_data"
    }
   ],
   "source": [
    "import matplotlib.pyplot as plt\n",
    "\n",
    "acc = history.history['acc']\n",
    "val_acc = history.history['val_acc']\n",
    "loss = history.history['loss']\n",
    "val_loss = history.history['val_loss']\n",
    "\n",
    "epochs = range(1, len(acc) + 1)\n",
    "\n",
    "plt.plot(epochs, acc, 'bo', label='Training acc')\n",
    "plt.plot(epochs, val_acc, 'b', label='Validation acc')\n",
    "plt.title('Training and validation accuracy')\n",
    "plt.legend()\n",
    "\n",
    "plt.figure()\n",
    "\n",
    "plt.plot(epochs, loss, 'bo', label='Training loss')\n",
    "plt.plot(epochs, val_loss, 'b', label='Validation loss')\n",
    "plt.title('Training and validation loss')\n",
    "plt.legend()\n",
    "\n",
    "plt.show()"
   ]
  },
  {
   "cell_type": "code",
   "execution_count": null,
   "metadata": {},
   "outputs": [],
   "source": []
  }
 ],
 "metadata": {
  "kernelspec": {
   "display_name": "Python 3",
   "language": "python",
   "name": "python3"
  },
  "language_info": {
   "codemirror_mode": {
    "name": "ipython",
    "version": 3
   },
   "file_extension": ".py",
   "mimetype": "text/x-python",
   "name": "python",
   "nbconvert_exporter": "python",
   "pygments_lexer": "ipython3",
   "version": "3.6.8"
  }
 },
 "nbformat": 4,
 "nbformat_minor": 2
}
