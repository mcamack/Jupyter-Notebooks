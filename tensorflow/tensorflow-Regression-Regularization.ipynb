{
 "cells": [
  {
   "cell_type": "markdown",
   "metadata": {},
   "source": [
    "# Tensorflow Regression"
   ]
  },
  {
   "cell_type": "markdown",
   "metadata": {},
   "source": [
    "Regression algorithm tries to find the function that best maps an input to an output in the simplest way, without overcomplicating things.\n",
    " * Input can be discrete or continuous, but the output is always continuous\n",
    " * Classification is for discrete outputs"
   ]
  },
  {
   "cell_type": "markdown",
   "metadata": {},
   "source": [
    "How well is the algorithm working and how do we find the best function? We want a function that is not biased towards the training data it learned from and we don't want the results to wildly vary just because the real data is slightly different than the training set. We want it to generalize to unseen data as well.\n",
    "\n",
    "**Variance** - indicates how sensitive a prediction is to the training set\n",
    " * low variance is desired because it shouldn't matter how we choose the training set\n",
    " * measures how badly the reponses vary\n",
    "\n",
    "**Bias** - indicates the strength of the assumptions made on the training set\n",
    " * low bias is desired to prevent overfitting in order to make a more generalized model\n",
    " * measures how far off the the model is from the truth"
   ]
  },
  {
   "cell_type": "markdown",
   "metadata": {},
   "source": [
    "**Cost Function** is used to evaluate each candidate solution\n",
    " * Higher cost means a worse solution, want the lowest cost\n",
    " * Tensorflow loops through all the data (an epoch) looking for the best possible value\n",
    " * Any cost function can be used, typically sum of squared errors:\n",
    "  * the error difference between each data point and the chosen solution is squared (to penalize larger errors) and then added together to get a single \"score\" for that solution\n",
    "  * the lowest score ends up being the best possible solution"
   ]
  },
  {
   "cell_type": "markdown",
   "metadata": {},
   "source": [
    "## Linear Regression"
   ]
  },
  {
   "cell_type": "code",
   "execution_count": 1,
   "metadata": {},
   "outputs": [],
   "source": [
    "%matplotlib inline\n",
    "import tensorflow as tf\n",
    "import numpy as np\n",
    "import matplotlib.pyplot as plt\n",
    "\n",
    "learning_rate = 0.01                                 # Hyperparameters\n",
    "training_epochs = 100\n",
    "\n",
    "x_train = np.linspace(-1, 1, 101)                    # Dataset\n",
    "y_train = 2 * x_train + np.random.randn(*x_train.shape) * 0.33\n",
    "\n",
    "X = tf.placeholder(tf.float32)                       # tf placeholder nodes for input/output\n",
    "Y = tf.placeholder(tf.float32)\n",
    "\n",
    "w = tf.Variable(0.0, name=\"weights\")                 # Weights variable\n",
    "\n",
    "def model(X, w):                                     # defines model as Y = wX\n",
    "    return tf.multiply(X, w)\n",
    "\n",
    "y_model = model(X, w)                                # Cost Function\n",
    "cost = tf.square(Y-y_model)"
   ]
  },
  {
   "cell_type": "code",
   "execution_count": 2,
   "metadata": {},
   "outputs": [],
   "source": [
    "# Defines the operation to be called on each iteration of the learning algorithm\n",
    "train_op = tf.train.GradientDescentOptimizer(learning_rate).minimize(cost)\n",
    "\n",
    "sess = tf.Session()                                  # Setup the tf Session and init variables\n",
    "init = tf.global_variables_initializer()\n",
    "sess.run(init)\n",
    "\n",
    "for epoch in range(training_epochs):                 # Loop thru dataset multiple times\n",
    "    for (x, y) in zip(x_train, y_train):             # Loop thru each point in the dataset\n",
    "        sess.run(train_op, feed_dict={X: x, Y: y})\n",
    "        \n",
    "w_val = sess.run(w)                                  # Get final parameter value\n",
    "\n",
    "sess.close()                                         # Close the session"
   ]
  },
  {
   "cell_type": "code",
   "execution_count": 3,
   "metadata": {},
   "outputs": [
    {
     "data": {
      "image/png": "[encoded data removed]",
      "text/plain": [
       "<Figure size 432x288 with 1 Axes>"
      ]
     },
     "metadata": {},
     "output_type": "display_data"
    }
   ],
   "source": [
    "plt.scatter(x_train, y_train)                        # Plot the original data\n",
    "\n",
    "y_learned = x_train*w_val\n",
    "plt.plot(x_train, y_learned, 'r')                    # Plot the best-fit line\n",
    "plt.show()"
   ]
  },
  {
   "cell_type": "markdown",
   "metadata": {},
   "source": [
    "## Polynomial Regression"
   ]
  },
  {
   "cell_type": "markdown",
   "metadata": {},
   "source": [
    "When a simple linear function won't fit the data, a polynomial function offers more flexibility. An Nth degree polynomial: $f(x) = w_nx^n + ... + w_1x + w_0$ can also describe a linear function when $n=1$"
   ]
  },
  {
   "cell_type": "code",
   "execution_count": 4,
   "metadata": {},
   "outputs": [
    {
     "data": {
      "image/png": "[encoded data removed]",
      "text/plain": [
       "<Figure size 432x288 with 1 Axes>"
      ]
     },
     "metadata": {},
     "output_type": "display_data"
    }
   ],
   "source": [
    "%matplotlib inline\n",
    "import tensorflow as tf\n",
    "import numpy as np\n",
    "import matplotlib.pyplot as plt\n",
    "\n",
    "learning_rate = 0.01                                 # Hyperparameters\n",
    "training_epochs = 40\n",
    "\n",
    "trX = np.linspace(-1, 1, 101)                        # Dataset based on 5th deg polynomial\n",
    "num_coeffs = 6\n",
    "trY_coeffs = [1, 2, 3, 4, 5, 6]\n",
    "trY = 0\n",
    "for i in range(num_coeffs):\n",
    "    trY += trY_coeffs[i] * np.power(trX, i)\n",
    "trY += np.random.randn(*trX.shape) * 1.5             # Add noise\n",
    "\n",
    "plt.scatter(trX, trY)\n",
    "plt.show()"
   ]
  },
  {
   "cell_type": "code",
   "execution_count": 6,
   "metadata": {},
   "outputs": [],
   "source": [
    "X = tf.placeholder(tf.float32)                       # tf placeholder nodes for input/output\n",
    "Y = tf.placeholder(tf.float32)\n",
    "\n",
    "w = tf.Variable(0.0, name=\"weights\")                 # Weights variable\n",
    "\n",
    "def model(X, w):                                     # defines model as 5th deg poly\n",
    "    terms = []\n",
    "    for i in range(num_coeffs):\n",
    "        term = tf.multiply(w[i], tf.pow(X, i))\n",
    "        terms.append(term)\n",
    "    return tf.add_n(terms)\n",
    "\n",
    "w = tf.Variable([0.] * num_coeffs, name=\"parameters\") # Sets param vector to zeros\n",
    "y_model = model(X, w)\n",
    "\n",
    "cost = (tf.pow(Y-y_model, 2))                        # Cost Function"
   ]
  },
  {
   "cell_type": "code",
   "execution_count": 9,
   "metadata": {},
   "outputs": [
    {
     "name": "stdout",
     "output_type": "stream",
     "text": [
      "5th deg polynomial coeffs:\n",
      " [0.807839  0.9337213 4.204219  5.563588  3.5128243 5.4300046]\n"
     ]
    }
   ],
   "source": [
    "# Defines the operation to be called on each iteration of the learning algorithm\n",
    "train_op = tf.train.GradientDescentOptimizer(learning_rate).minimize(cost)\n",
    "\n",
    "sess = tf.Session()                                  # Setup the tf Session and init variables\n",
    "init = tf.global_variables_initializer()\n",
    "sess.run(init)\n",
    "\n",
    "for epoch in range(training_epochs):                 # Loop thru dataset multiple times\n",
    "    for (x, y) in zip(trX, trY):                     # Loop thru each point in the dataset\n",
    "        sess.run(train_op, feed_dict={X: x, Y: y})\n",
    "        \n",
    "w_val = sess.run(w)                                  # Get final parameter value\n",
    "print(\"5th deg polynomial coeffs:\\n\", w_val)\n",
    "\n",
    "sess.close()                                         # Close the session"
   ]
  },
  {
   "cell_type": "code",
   "execution_count": 8,
   "metadata": {},
   "outputs": [
    {
     "data": {
      "image/png": "[encoded data removed]",
      "text/plain": [
       "<Figure size 432x288 with 1 Axes>"
      ]
     },
     "metadata": {},
     "output_type": "display_data"
    }
   ],
   "source": [
    "plt.scatter(trX, trY)                                # Plot the original data\n",
    "\n",
    "trY2 = 0\n",
    "for i in range(num_coeffs):                          # Plot the result\n",
    "    trY2 += w_val[i] * np.power(trX, i)\n",
    "    \n",
    "plt.plot(trX, trY2, 'r')\n",
    "plt.show()"
   ]
  },
  {
   "cell_type": "markdown",
   "metadata": {},
   "source": [
    "## Regularization"
   ]
  },
  {
   "cell_type": "markdown",
   "metadata": {},
   "source": [
    "Polynomial regression isn't always the best ... the goal should be to find the simplest function that best represents the data. A 10th degree polynomial isn't always the best answer. **Regularization** is a way of penalizing the wrong parameters in order to have the correct parameters be more dominant.\n",
    "\n",
    "When the regularization parameter, $\\lambda$, is zero there is no regularization taking place. Larger values of $\\lambda$ penalize parameters with larger norms more; making an overly complicated model less complex and reducing its flexibility (fixes overfitting)."
   ]
  },
  {
   "cell_type": "code",
   "execution_count": null,
   "metadata": {},
   "outputs": [],
   "source": []
  },
  {
   "cell_type": "code",
   "execution_count": null,
   "metadata": {},
   "outputs": [],
   "source": []
  },
  {
   "cell_type": "code",
   "execution_count": null,
   "metadata": {},
   "outputs": [],
   "source": []
  }
 ],
 "metadata": {
  "kernelspec": {
   "display_name": "Python 3",
   "language": "python",
   "name": "python3"
  },
  "language_info": {
   "codemirror_mode": {
    "name": "ipython",
    "version": 3
   },
   "file_extension": ".py",
   "mimetype": "text/x-python",
   "name": "python",
   "nbconvert_exporter": "python",
   "pygments_lexer": "ipython3",
   "version": "3.6.5"
  }
 },
 "nbformat": 4,
 "nbformat_minor": 2
}
