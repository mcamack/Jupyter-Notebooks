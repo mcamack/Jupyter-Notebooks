{
 "cells": [
  {
   "cell_type": "markdown",
   "metadata": {
    "toc": true
   },
   "source": [
    "<h1>Table of Contents<span class=\"tocSkip\"></span></h1>\n",
    "<div class=\"toc\"><ul class=\"toc-item\"><li><span><a href=\"#Yield\" data-toc-modified-id=\"Yield-1\"><span class=\"toc-item-num\">1&nbsp;&nbsp;</span>Yield</a></span></li><li><span><a href=\"#Generators\" data-toc-modified-id=\"Generators-2\"><span class=\"toc-item-num\">2&nbsp;&nbsp;</span>Generators</a></span></li><li><span><a href=\"#Coroutines\" data-toc-modified-id=\"Coroutines-3\"><span class=\"toc-item-num\">3&nbsp;&nbsp;</span>Coroutines</a></span><ul class=\"toc-item\"><li><span><a href=\"#Coroutine-Pipelines\" data-toc-modified-id=\"Coroutine-Pipelines-3.1\"><span class=\"toc-item-num\">3.1&nbsp;&nbsp;</span>Coroutine Pipelines</a></span></li></ul></li><li><span><a href=\"#Asynchronous-Python\" data-toc-modified-id=\"Asynchronous-Python-4\"><span class=\"toc-item-num\">4&nbsp;&nbsp;</span>Asynchronous Python</a></span><ul class=\"toc-item\"><li><span><a href=\"#Event-Loop\" data-toc-modified-id=\"Event-Loop-4.1\"><span class=\"toc-item-num\">4.1&nbsp;&nbsp;</span>Event Loop</a></span></li><li><span><a href=\"#Yield-From-and-Wait-(python-3.4)\" data-toc-modified-id=\"Yield-From-and-Wait-(python-3.4)-4.2\"><span class=\"toc-item-num\">4.2&nbsp;&nbsp;</span>Yield From and Wait (python 3.4)</a></span></li><li><span><a href=\"#Async-and-Await-(python-3.5+)\" data-toc-modified-id=\"Async-and-Await-(python-3.5+)-4.3\"><span class=\"toc-item-num\">4.3&nbsp;&nbsp;</span>Async and Await (python 3.5+)</a></span></li></ul></li></ul></div>"
   ]
  },
  {
   "cell_type": "markdown",
   "metadata": {},
   "source": [
    "# Yield"
   ]
  },
  {
   "cell_type": "markdown",
   "metadata": {},
   "source": [
    "https://www.geeksforgeeks.org/use-yield-keyword-instead-return-keyword-python/\n",
    "\n",
    "Yield will suspend the execution of a function, sending a value back to the caller, but retain enough state to enable the function to resume where it left off.\n",
    "* execution resumes immediately where it left off\n",
    "* produce series of value over time without computing all at once and returning a list\n",
    "\n",
    "Use **yield** when we want to iterate over a sequence without returning all of it at once (and having to store it all in memory). The normal **return** keyword would just give us everything and the function would be done."
   ]
  },
  {
   "cell_type": "markdown",
   "metadata": {},
   "source": [
    "# Generators"
   ]
  },
  {
   "cell_type": "markdown",
   "metadata": {},
   "source": [
    "**Generators produce data** - they are functions that contain the **yield** keyword automatically become **generators**. \n",
    "\n",
    "The generator function returns a generator object which can be iterated over:\n",
    "* call the next() function with the generator as an argument\n",
    "* place in a for loop\n",
    "* can't accept arguments after initialized\n",
    "\n",
    "Previously, generators had to be completely consumed by the function calling them and couldn't call another generator which would halt the execution of both. However, there is now the **yield from** syntax which can be used to yield the result from another generator."
   ]
  },
  {
   "cell_type": "code",
   "execution_count": 1,
   "metadata": {},
   "outputs": [
    {
     "name": "stdout",
     "output_type": "stream",
     "text": [
      "1\n",
      "2\n",
      "3\n"
     ]
    }
   ],
   "source": [
    "def generator1(): \n",
    "    yield 1\n",
    "    yield 2\n",
    "    yield 3\n",
    "\n",
    "for value in generator1():  \n",
    "    print(value) "
   ]
  },
  {
   "cell_type": "code",
   "execution_count": 2,
   "metadata": {},
   "outputs": [
    {
     "name": "stdout",
     "output_type": "stream",
     "text": [
      "Hello\n",
      "World\n"
     ]
    }
   ],
   "source": [
    "def generator2():\n",
    "    yield \"Hello\"\n",
    "    yield \"World\"\n",
    "\n",
    "my_gen = generator2()\n",
    "print(next(my_gen))\n",
    "print(next(my_gen))"
   ]
  },
  {
   "cell_type": "markdown",
   "metadata": {},
   "source": [
    "# Coroutines"
   ]
  },
  {
   "cell_type": "markdown",
   "metadata": {},
   "source": [
    "Similar to threads, but a coroutine decides when to switch context based on the code written. Threads would switch based on the operating system (or runtime environment). Coroutines are coopertive and multitask based on how the programmer has set suspend and resume points in the code.\n",
    "\n",
    "Similar to generators: \n",
    "* extra methods\n",
    "* tweaked yield statement\n",
    "* **Coroutines also consume data**\n",
    "* can accept arguments after it's initialized"
   ]
  },
  {
   "cell_type": "markdown",
   "metadata": {},
   "source": [
    "With a modified *yield* statement, data can be sent to a coroutine:"
   ]
  },
  {
   "cell_type": "code",
   "execution_count": 3,
   "metadata": {
    "collapsed": true
   },
   "outputs": [],
   "source": [
    "def check_for_value(num):\n",
    "    try:\n",
    "        while True:\n",
    "            received_value = (yield)       #data sent to this co is stored here\n",
    "            if num == received_value:      #check the value that was sent\n",
    "                print(\"Correct!\")\n",
    "            else:\n",
    "                print(\"Incorrect\")\n",
    "    except GeneratorExit:                  #catches coroutine.close()\n",
    "        print(\"Closing Coroutine.\")"
   ]
  },
  {
   "cell_type": "code",
   "execution_count": 4,
   "metadata": {},
   "outputs": [],
   "source": [
    "coroutine = check_for_value(42)        #instantiating the coroutine w/42"
   ]
  },
  {
   "cell_type": "code",
   "execution_count": 5,
   "metadata": {},
   "outputs": [],
   "source": [
    "coroutine.__next__()                   #starts co and pauses at 1st yield"
   ]
  },
  {
   "cell_type": "code",
   "execution_count": 6,
   "metadata": {},
   "outputs": [
    {
     "name": "stdout",
     "output_type": "stream",
     "text": [
      "Incorrect\n"
     ]
    }
   ],
   "source": [
    "coroutine.send(7)"
   ]
  },
  {
   "cell_type": "code",
   "execution_count": 7,
   "metadata": {},
   "outputs": [
    {
     "name": "stdout",
     "output_type": "stream",
     "text": [
      "Correct!\n"
     ]
    }
   ],
   "source": [
    "coroutine.send(42)"
   ]
  },
  {
   "cell_type": "code",
   "execution_count": 8,
   "metadata": {},
   "outputs": [
    {
     "name": "stdout",
     "output_type": "stream",
     "text": [
      "Closing Coroutine.\n"
     ]
    }
   ],
   "source": [
    "coroutine.close()                      #close coroutine"
   ]
  },
  {
   "cell_type": "markdown",
   "metadata": {},
   "source": [
    "## Coroutine Pipelines"
   ]
  },
  {
   "cell_type": "markdown",
   "metadata": {},
   "source": [
    "Coroutines can be chained together to form a pipeline, starting with a producer as a simple function, going into a middle coroutine, and ending with an output coroutine. Data gets passed from one stage to another."
   ]
  },
  {
   "cell_type": "code",
   "execution_count": 9,
   "metadata": {
    "collapsed": true
   },
   "outputs": [],
   "source": [
    "def producer(data_in, next_coroutine):\n",
    "    tokens = data_in.split(\" \")\n",
    "    for token in tokens:\n",
    "        next_coroutine.send(token)\n",
    "    next_coroutine.close()"
   ]
  },
  {
   "cell_type": "code",
   "execution_count": 10,
   "metadata": {
    "collapsed": true
   },
   "outputs": [],
   "source": [
    "def middle_coroutine(filter_str, next_coroutine):\n",
    "    print(\"Search for words containing: \", filter_str)\n",
    "    try:\n",
    "        while True:\n",
    "            token = (yield)\n",
    "            if filter_str in token:\n",
    "                next_coroutine.send(token)\n",
    "    except GeneratorExit:\n",
    "        print(\"Done filtering\")\n",
    "        next_coroutine.close()"
   ]
  },
  {
   "cell_type": "code",
   "execution_count": 11,
   "metadata": {
    "collapsed": true
   },
   "outputs": [],
   "source": [
    "def output_coroutine():\n",
    "    try:\n",
    "        while True:\n",
    "            token = (yield)\n",
    "            print(token)\n",
    "    except GeneratorExit:\n",
    "        print(\"Done printing\")"
   ]
  },
  {
   "cell_type": "code",
   "execution_count": 12,
   "metadata": {},
   "outputs": [],
   "source": [
    "sink = output_coroutine()\n",
    "sink.__next__()"
   ]
  },
  {
   "cell_type": "code",
   "execution_count": 13,
   "metadata": {},
   "outputs": [
    {
     "name": "stdout",
     "output_type": "stream",
     "text": [
      "Search for words containing:  t\n",
      "sentence\n",
      "with\n",
      "containing\n",
      "the\n",
      "letter\n",
      "t.\n",
      "Done filtering\n",
      "Done printing\n"
     ]
    }
   ],
   "source": [
    "middle = middle_coroutine(\"t\", sink)\n",
    "middle.__next__()\n",
    "input_str = \"This is a sentence with some words containing the letter t.\"\n",
    "producer(input_str, middle)"
   ]
  },
  {
   "cell_type": "markdown",
   "metadata": {},
   "source": [
    "# Asynchronous Python"
   ]
  },
  {
   "cell_type": "markdown",
   "metadata": {},
   "source": [
    "Asynchronous programming is where execution order is not 100% known ahead of time. Some parts of the code may execute before other parts, with no way to guarantee the order.  \n",
    "* Reference: https://snarky.ca/how-the-heck-does-async-await-work-in-python-3-5"
   ]
  },
  {
   "cell_type": "markdown",
   "metadata": {},
   "source": [
    "## Event Loop"
   ]
  },
  {
   "cell_type": "markdown",
   "metadata": {},
   "source": [
    "Programming construct that waits for events to happen and dispatches responses to them. The **asyncio** library was added to python to provide an event loop."
   ]
  },
  {
   "cell_type": "markdown",
   "metadata": {},
   "source": [
    "## Yield From and Wait (python 3.4)"
   ]
  },
  {
   "cell_type": "markdown",
   "metadata": {},
   "source": [
    "Reference: https://hackernoon.com/asynchronous-python-45df84b82434\n",
    "\n",
    "Use the decorator \"@asyncio.coroutine\" on the generator (function) and it will now be a coroutine meant for use with asyncio and its event loop (it can also call another generator)\n",
    "* use the keywords **yield from** instead of just yield\n",
    "* line containing *yield from* blocks until it's completely finished, then moves on"
   ]
  },
  {
   "cell_type": "code",
   "execution_count": 14,
   "metadata": {},
   "outputs": [
    {
     "name": "stdout",
     "output_type": "stream",
     "text": [
      "T-minus 2 (A)\n",
      "T-minus 3 (B)\n",
      "T-minus 1 (A)\n",
      "T-minus 2 (B)\n",
      "T-minus 1 (B)\n"
     ]
    }
   ],
   "source": [
    "import asyncio\n",
    "\n",
    "# Borrowed from http://curio.readthedocs.org/en/latest/tutorial.html.\n",
    "@asyncio.coroutine\n",
    "def countdown(number, n):\n",
    "    while n > 0:\n",
    "        print('T-minus', n, '({})'.format(number))\n",
    "        yield from asyncio.sleep(1)\n",
    "        n -= 1\n",
    "\n",
    "asyncio.set_event_loop(asyncio.new_event_loop())\n",
    "loop = asyncio.get_event_loop()\n",
    "\n",
    "tasks = [asyncio.ensure_future(countdown(\"A\", 2)), asyncio.ensure_future(countdown(\"B\", 3))]\n",
    "loop.run_until_complete(asyncio.wait(tasks))\n",
    "\n",
    "loop.close()"
   ]
  },
  {
   "cell_type": "markdown",
   "metadata": {},
   "source": [
    "## Async and Await (python 3.5+)"
   ]
  },
  {
   "cell_type": "markdown",
   "metadata": {},
   "source": [
    "**async def** defines a function as asynchronous (replaces @asyncio.coroutine)  \n",
    "* can't contain *yield*, only *await* and *return*\n",
    "* this makes a function a coroutine\n",
    " \n",
    "**await** keyword replaces *yield from* and is there to wait for a coroutine to finish\n",
    "* can only be within an *async def* function\n",
    "* calling await on an object means it has to be an awaitable object\n",
    "  * i.e. it defines an \\__await__() method which returns an iterator which is not a coroutine itself"
   ]
  },
  {
   "cell_type": "code",
   "execution_count": 15,
   "metadata": {},
   "outputs": [
    {
     "name": "stdout",
     "output_type": "stream",
     "text": [
      "T-minus 2 (A)\n",
      "T-minus 3 (B)\n",
      "T-minus 1 (A)\n",
      "T-minus 2 (B)\n",
      "T-minus 1 (B)\n"
     ]
    }
   ],
   "source": [
    "import asyncio\n",
    "\n",
    "# Borrowed from http://curio.readthedocs.org/en/latest/tutorial.html.\n",
    "async def countdown(number, n):\n",
    "    while n > 0:\n",
    "        print('T-minus', n, '({})'.format(number))\n",
    "        await asyncio.sleep(1)\n",
    "        n -= 1\n",
    "\n",
    "asyncio.set_event_loop(asyncio.new_event_loop())\n",
    "loop = asyncio.get_event_loop()\n",
    "\n",
    "tasks = [asyncio.ensure_future(countdown(\"A\", 2)), asyncio.ensure_future(countdown(\"B\", 3))]\n",
    "loop.run_until_complete(asyncio.wait(tasks))\n",
    "\n",
    "loop.close()"
   ]
  }
 ],
 "metadata": {
  "kernelspec": {
   "display_name": "Python 3",
   "language": "python",
   "name": "python3"
  },
  "language_info": {
   "codemirror_mode": {
    "name": "ipython",
    "version": 3
   },
   "file_extension": ".py",
   "mimetype": "text/x-python",
   "name": "python",
   "nbconvert_exporter": "python",
   "pygments_lexer": "ipython3",
   "version": "3.6.2"
  },
  "toc": {
   "base_numbering": 1,
   "nav_menu": {},
   "number_sections": true,
   "sideBar": true,
   "skip_h1_title": false,
   "title_cell": "Table of Contents",
   "title_sidebar": "Contents",
   "toc_cell": true,
   "toc_position": {},
   "toc_section_display": true,
   "toc_window_display": false
  }
 },
 "nbformat": 4,
 "nbformat_minor": 2
}
