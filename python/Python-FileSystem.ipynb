{
 "cells": [
  {
   "cell_type": "code",
   "execution_count": 68,
   "metadata": {
    "collapsed": true
   },
   "outputs": [],
   "source": [
    "import os\n",
    "import sys\n",
    "import subprocess"
   ]
  },
  {
   "cell_type": "code",
   "execution_count": 38,
   "metadata": {},
   "outputs": [
    {
     "data": {
      "text/plain": [
       "'C:\\\\Users\\\\Matt\\\\Programming\\\\ML-Notebooks\\\\python'"
      ]
     },
     "execution_count": 38,
     "metadata": {},
     "output_type": "execute_result"
    }
   ],
   "source": [
    "os.getcwd()"
   ]
  },
  {
   "cell_type": "code",
   "execution_count": 26,
   "metadata": {},
   "outputs": [
    {
     "data": {
      "text/plain": [
       "b'Python Basics.ipynb\\nPython-FileSystem.ipynb\\n'"
      ]
     },
     "execution_count": 26,
     "metadata": {},
     "output_type": "execute_result"
    }
   ],
   "source": [
    "subprocess.Popen('ls', shell=True, stdout=subprocess.PIPE).stdout.read()"
   ]
  },
  {
   "cell_type": "code",
   "execution_count": 29,
   "metadata": {},
   "outputs": [
    {
     "name": "stdout",
     "output_type": "stream",
     "text": [
      "b'Python Basics.ipynb\\n'\n",
      "b'Python-FileSystem.ipynb\\n'\n"
     ]
    }
   ],
   "source": [
    "p = subprocess.Popen('ls', shell=True, stdout=subprocess.PIPE, stderr=subprocess.STDOUT).stdout\n",
    "for line in p.readlines():\n",
    "    print(line)"
   ]
  },
  {
   "cell_type": "code",
   "execution_count": 37,
   "metadata": {},
   "outputs": [
    {
     "name": "stdout",
     "output_type": "stream",
     "text": [
      "f982b59\n"
     ]
    }
   ],
   "source": [
    "!git rev-parse --short HEAD"
   ]
  },
  {
   "cell_type": "code",
   "execution_count": 61,
   "metadata": {},
   "outputs": [],
   "source": [
    "weight_dir = \"../data_out3/\"\n",
    "file_name = \"weights_fake\"\n",
    "commit = !git rev-parse --short HEAD"
   ]
  },
  {
   "cell_type": "code",
   "execution_count": 62,
   "metadata": {},
   "outputs": [],
   "source": [
    "newfile = os.path.join(weight_dir, file_name + \"_\" + commit[0])"
   ]
  },
  {
   "cell_type": "code",
   "execution_count": 63,
   "metadata": {},
   "outputs": [
    {
     "data": {
      "text/plain": [
       "'../data_out3/weights_fake_f982b59'"
      ]
     },
     "execution_count": 63,
     "metadata": {},
     "output_type": "execute_result"
    }
   ],
   "source": [
    "newfile"
   ]
  },
  {
   "cell_type": "code",
   "execution_count": 67,
   "metadata": {},
   "outputs": [
    {
     "ename": "SyntaxError",
     "evalue": "invalid syntax (<ipython-input-67-842afb38aa8d>, line 1)",
     "output_type": "error",
     "traceback": [
      "\u001b[1;36m  File \u001b[1;32m\"<ipython-input-67-842afb38aa8d>\"\u001b[1;36m, line \u001b[1;32m1\u001b[0m\n\u001b[1;33m    \"keras\" in !git status --porcelain\u001b[0m\n\u001b[1;37m               ^\u001b[0m\n\u001b[1;31mSyntaxError\u001b[0m\u001b[1;31m:\u001b[0m invalid syntax\n"
     ]
    }
   ],
   "source": [
    "\"keras\" in !git status --porcelain"
   ]
  },
  {
   "cell_type": "code",
   "execution_count": 72,
   "metadata": {},
   "outputs": [],
   "source": [
    "this_script = os.path.split(sys.argv[0])[1]"
   ]
  },
  {
   "cell_type": "code",
   "execution_count": 73,
   "metadata": {},
   "outputs": [
    {
     "name": "stderr",
     "output_type": "stream",
     "text": [
      "fatal: ambiguous argument 'this_script': unknown revision or path not in the working tree.\n",
      "Use '--' to separate paths from revisions, like this:\n",
      "'git <command> [<revision>...] -- [<file>...]'\n"
     ]
    }
   ],
   "source": [
    "!git diff --quiet this_script"
   ]
  },
  {
   "cell_type": "code",
   "execution_count": 75,
   "metadata": {
    "scrolled": true
   },
   "outputs": [
    {
     "name": "stdout",
     "output_type": "stream",
     "text": [
      "b'On branch master\\n'\n",
      "b\"Your branch is up-to-date with 'origin/master'.\\n\"\n",
      "b'Changes not staged for commit:\\n'\n",
      "b'  (use \"git add/rm <file>...\" to update what will be committed)\\n'\n",
      "b'  (use \"git checkout -- <file>...\" to discard changes in working directory)\\n'\n",
      "b'\\n'\n",
      "b'\\tmodified:   ../keras/keras100-Overview.ipynb\\n'\n",
      "b'\\tmodified:   ../keras/keras200-CNN.ipynb\\n'\n",
      "b'\\tdeleted:    ../keras/keras202-VGG16.ipynb\\n'\n",
      "b'\\n'\n",
      "b'Untracked files:\\n'\n",
      "b'  (use \"git add <file>...\" to include in what will be committed)\\n'\n",
      "b'\\n'\n",
      "b'\\t../keras/images/100dutycycle.png\\n'\n",
      "b'\\t../keras/images/dutycycle.png\\n'\n",
      "b'\\t../keras/keras110-TrainingBasics.ipynb\\n'\n",
      "b'\\t../keras/keras202-VGG16FineTuning.ipynb\\n'\n",
      "b'\\tPython-FileSystem.ipynb\\n'\n",
      "b'\\n'\n",
      "b'no changes added to commit (use \"git add\" and/or \"git commit -a\")\\n'\n"
     ]
    }
   ],
   "source": [
    "p = subprocess.Popen('git status', shell=True, stdout=subprocess.PIPE, stderr=subprocess.STDOUT).stdout\n",
    "for line in p.readlines():\n",
    "    print(line)"
   ]
  },
  {
   "cell_type": "code",
   "execution_count": null,
   "metadata": {
    "collapsed": true
   },
   "outputs": [],
   "source": [
    "import os, sys, subprocess\n",
    "\n",
    "this_script = os.path.split(sys.argv[0])[1]\n",
    "cmd = ['git diff --quiet', this_script]\n",
    "changed = subprocess.Popen(cmd, shell=True, stdout=subprocess.PIPE)\n",
    "#changed = subprocess.Popen('git diff --quiet cdiscount_model_49_classes.py', shell=True, stdout=subprocess.PIPE)\n",
    "wait = changed.communicate()[0]\n",
    "\n",
    "if changed.returncode:\n",
    "    print(\"Updates to\", this_script, \"need to be git committed before running. Exiting...\")\n",
    "    sys.exit()\n",
    "else:\n",
    "    weight_dir = \"../data_out3/Xception_weights\"\n",
    "    file_name = \"Xception49_Epoch{epoch:02d}-ValAcc{val_acc:.3f}\"\n",
    "    commit = subprocess.Popen('git rev-parse --short HEAD', shell=True, stdout=subprocess.PIPE).stdout.read().decode('utf-8')[:-1]\n",
    "\n",
    "    newfile = os.path.join(weight_dir, file_name + '_' + commit + '.hdf5')\n",
    "    print(\"Weights will be saved to:\\n\", \"   \", newfile)"
   ]
  }
 ],
 "metadata": {
  "kernelspec": {
   "display_name": "Python 3",
   "language": "python",
   "name": "python3"
  },
  "language_info": {
   "codemirror_mode": {
    "name": "ipython",
    "version": 3
   },
   "file_extension": ".py",
   "mimetype": "text/x-python",
   "name": "python",
   "nbconvert_exporter": "python",
   "pygments_lexer": "ipython3",
   "version": "3.5.2"
  }
 },
 "nbformat": 4,
 "nbformat_minor": 2
}
