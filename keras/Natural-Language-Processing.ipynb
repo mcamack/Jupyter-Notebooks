{
 "cells": [
  {
   "cell_type": "markdown",
   "metadata": {
    "collapsed": true
   },
   "source": [
    "# Natural Language Processing"
   ]
  },
  {
   "cell_type": "markdown",
   "metadata": {},
   "source": [
    "This notebook summarizes Natural Language Processing (NLP) as presented in the following resources:\n",
    "* [Stanford CS224n: NLP w/Deep Learning](http://web.stanford.edu/class/cs224n/index.html)\n",
    "* [RNN Tutorial](http://www.wildml.com/2015/09/recurrent-neural-networks-tutorial-part-1-introduction-to-rnns/)"
   ]
  },
  {
   "cell_type": "markdown",
   "metadata": {},
   "source": [
    "## What is NLP?"
   ]
  },
  {
   "cell_type": "markdown",
   "metadata": {},
   "source": [
    "Natural language processing (NLP) has the goal of making computers \"understand\" human languages in order to perform some useful tasks.\n",
    "\n",
    "Human language is a symbolic/categorical signaling system. Large vocabulary creates a machine learning problem with extreme sparsity in word encodings.\n",
    "\n",
    "NLP is difficult because human language is complex and ambiguous. Interpretation depends on learning and then using situtational, contexual, world, visual knowledge about the language."
   ]
  },
  {
   "cell_type": "markdown",
   "metadata": {},
   "source": [
    "### Applications"
   ]
  },
  {
   "cell_type": "markdown",
   "metadata": {},
   "source": [
    "Processing Text\n",
    "* Sentiment Analysis\n",
    "* Translation\n",
    "\n",
    "Generating Text\n",
    "\n",
    "Generating Image Descriptions\n",
    "\n",
    "Speech Recognition"
   ]
  },
  {
   "cell_type": "markdown",
   "metadata": {},
   "source": [
    "### Processing"
   ]
  },
  {
   "cell_type": "markdown",
   "metadata": {},
   "source": [
    "**bag-of-words**"
   ]
  },
  {
   "cell_type": "markdown",
   "metadata": {},
   "source": [
    "### Language Modeling"
   ]
  },
  {
   "cell_type": "markdown",
   "metadata": {},
   "source": [
    "Task of predicting what word comes next. More mathematically, this means that given a sequence of words, compute the probability distribution of the next word\n",
    "\n",
    "given $x^{(1)}, x^{(2)},..., x^{(t)}$ then the probability of the next word $x^{(t+1)}$ is:  \n",
    "    $P(x^{(t+1)} = w_j | x^{(t)},...,x^{(1)})$ where  \n",
    "    $w_j$ is a word in the vocabulary $V = {w_1, ..., w_{|V|}}$\n",
    "\n",
    "A Language Model can also **generate text** by choosing the next most likely word after training has been completed. However, a 3-gram will not lead to very meaningful sentences, a further looking back n-gram is needed - this would increase the size of the model exponentially though..."
   ]
  },
  {
   "cell_type": "markdown",
   "metadata": {
    "heading_collapsed": true
   },
   "source": [
    "#### n-gram Language Model"
   ]
  },
  {
   "cell_type": "markdown",
   "metadata": {
    "hidden": true
   },
   "source": [
    "**n-gram** is a chunk of *n* consecutive words\n",
    "* unigram: \"there\", \"it\", \"goes\"\n",
    "* bigram: \"there it\", \"it goes\"\n",
    "* trigram: \"there it goes\"\n",
    "\n",
    "Collect statistics about different n-gram frequency and use that to predict the next word. Use some large \"corpus\" of text in order to produce the n-gram probabilities. The probabilities will reflect the text trained on."
   ]
  },
  {
   "cell_type": "markdown",
   "metadata": {
    "hidden": true
   },
   "source": [
    "##### Example"
   ]
  },
  {
   "cell_type": "markdown",
   "metadata": {
    "hidden": true
   },
   "source": [
    "~~this part doesn't matter, because~~ only these words ___\n",
    "\n",
    "* discard the first words\n",
    "* condition on the last (n-1) = 3 words\n",
    "\n",
    "$P(w_j|only~these~words) = \\frac{count(only~these~words~w_j)}{count(only~these~words)}$\n",
    "\n",
    "* if \"only these words\" appear 1000 times, followed by \"matter\" in 400 cases, then: $P(matter|only~these~words) = 0.4$"
   ]
  },
  {
   "cell_type": "markdown",
   "metadata": {
    "hidden": true
   },
   "source": [
    "##### Problems"
   ]
  },
  {
   "cell_type": "markdown",
   "metadata": {
    "hidden": true
   },
   "source": [
    "Increasing the $n$ makes sparsity problems **worse** and the model size huge\n",
    "* if $only~these~words~w_j$ never occurs in the data, then $w_j$ has probability of 0\n",
    "* if $only~these~words$ never occurs in the data, then we can't calculate prob's for any $w_j$\n",
    "* have to store count for all possible n-grams, model size is $O(exp(n))$"
   ]
  },
  {
   "cell_type": "markdown",
   "metadata": {},
   "source": [
    "# Recurrent Neural Network"
   ]
  },
  {
   "cell_type": "markdown",
   "metadata": {},
   "source": [
    "* Main idea is to process sequential information\n",
    "* Normal neural networks assume that all inputs/outputs are independent\n",
    " * not good for sentences where words have context with one another\n",
    "* RNN are recurrent because they perform the same task for every element in a sequence\n",
    " * output depends on previous computations\n",
    " * have memory from previous calcuations\n",
    "* RNNs can make use of long sequences, but in practice it gets too computationally expensive to look back too far"
   ]
  },
  {
   "cell_type": "markdown",
   "metadata": {},
   "source": [
    "<img src=\"images/rnn_unfold.jpg\" alt=\"Drawing\" style=\"width: 700px;\"/>"
   ]
  },
  {
   "cell_type": "markdown",
   "metadata": {},
   "source": [
    "The image above shows an RNN getting unrolled/unfolded into its complete sequence. If the sequence is 5 words long, then it gets unrolled into a 5-layer neural network.\n",
    "\n",
    "* $x_t$ is the input at time step $t$\n",
    "* $s_t$ is the hidden state at time step $t$. It's the memory of the network and is calculated based on the previous hidden state and the input at the current step: $s_t = f(U_{x_t} + W_{{s_t}-1})$. The function f is usually non-linear (tanh or ReLU). $s-1$ is usually initialized to all zeroes for the first hidden state.\n",
    "* $o_t$ is the output at time step $t$. To predict the next word in a sentence, this output would be a vector of probabilities across the vocabulary: $o_t = softmax(V_{s_t})$"
   ]
  },
  {
   "cell_type": "markdown",
   "metadata": {},
   "source": [
    "RNN shares the same parameters (U, V, W) across all steps, unlike traditional NN which have different parameters at each layer. The RNN performs the same task at each step, just with different inputs. There are far fewer parameters in an RNN than a Convolutional NN, for example.\n",
    "\n",
    "The main feature of an RNN is its hidden state, capturing some info about a sequence. Inputs/Outputs may not be needed at each step. When predicting sentiment of an entire sentence, only the final output is needed, not any of the intermediate ones. "
   ]
  },
  {
   "cell_type": "markdown",
   "metadata": {},
   "source": [
    "## RNN Training"
   ]
  },
  {
   "cell_type": "markdown",
   "metadata": {},
   "source": [
    "Training is similar to a traditional RNN with a tweaked version of backpropagation. With parameters being shared across all time steps, the gradient at each output depends on the current **and previous timesteps**. \n",
    "\n",
    "This is called Backpropagation Through Time (BPTT) - to calculate the gradient at time $t$, we have to backprop to multiple previous steps and sum the gradients. "
   ]
  },
  {
   "cell_type": "markdown",
   "metadata": {},
   "source": [
    "## RNN Flavors"
   ]
  },
  {
   "cell_type": "markdown",
   "metadata": {},
   "source": [
    "### Bidirectional RNN"
   ]
  },
  {
   "cell_type": "markdown",
   "metadata": {},
   "source": []
  },
  {
   "cell_type": "markdown",
   "metadata": {},
   "source": [
    "### Deep Bidirectional RNN"
   ]
  },
  {
   "cell_type": "markdown",
   "metadata": {},
   "source": []
  },
  {
   "cell_type": "markdown",
   "metadata": {},
   "source": [
    "### LSTM Networks"
   ]
  },
  {
   "cell_type": "markdown",
   "metadata": {},
   "source": []
  }
 ],
 "metadata": {
  "kernelspec": {
   "display_name": "Python 3",
   "language": "python",
   "name": "python3"
  },
  "language_info": {
   "codemirror_mode": {
    "name": "ipython",
    "version": 3
   },
   "file_extension": ".py",
   "mimetype": "text/x-python",
   "name": "python",
   "nbconvert_exporter": "python",
   "pygments_lexer": "ipython3",
   "version": "3.6.6"
  },
  "toc": {
   "base_numbering": 1,
   "nav_menu": {},
   "number_sections": true,
   "sideBar": true,
   "skip_h1_title": false,
   "title_cell": "Table of Contents",
   "title_sidebar": "Contents",
   "toc_cell": false,
   "toc_position": {},
   "toc_section_display": true,
   "toc_window_display": false
  }
 },
 "nbformat": 4,
 "nbformat_minor": 2
}
