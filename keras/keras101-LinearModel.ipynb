{
 "cells": [
  {
   "cell_type": "markdown",
   "metadata": {},
   "source": [
    "## Setup Notebook"
   ]
  },
  {
   "cell_type": "markdown",
   "metadata": {},
   "source": [
    "Ensure plots show up in the notebook itself"
   ]
  },
  {
   "cell_type": "code",
   "execution_count": 32,
   "metadata": {},
   "outputs": [],
   "source": [
    "%matplotlib inline"
   ]
  },
  {
   "cell_type": "markdown",
   "metadata": {},
   "source": [
    "The entire dogscats/ directory can be downloaded from [here](http://files.fast.ai/data/dogscats.zip). It has been placed in a data/ directory where this notebook is located. Add the entire \"data/\" directory to the .gitignore file to prevent it from getting uploaded to GitHub.\n",
    "\n",
    "Add a line to toggle whether the whole dataset will be used or just the sample/ directory for faster prototyping."
   ]
  },
  {
   "cell_type": "code",
   "execution_count": 33,
   "metadata": {},
   "outputs": [],
   "source": [
    "#path = \"data/dogscats/\"\n",
    "path = \"data/dogscats/sample/\""
   ]
  },
  {
   "cell_type": "code",
   "execution_count": 34,
   "metadata": {},
   "outputs": [
    {
     "data": {
      "text/html": [
       "Path (<tt>AF.png</tt>) doesn't exist. It may still be in the process of being generated, or you may have the incorrect path."
      ],
      "text/plain": [
       "C:\\users\\mcama\\coding\\Jupyter-Notebooks\\keras\\AF.png"
      ]
     },
     "execution_count": 34,
     "metadata": {},
     "output_type": "execute_result"
    }
   ],
   "source": [
    "# Handy trick to get a file link\n",
    "from IPython.display import FileLink\n",
    "FileLink('AF.png')"
   ]
  },
  {
   "cell_type": "markdown",
   "metadata": {},
   "source": [
    "LogLoss is known in Keras as binary entropy (or categorical cross-entropy)\n",
    "* submitting 0's or 1's will penalize you a lot"
   ]
  },
  {
   "cell_type": "markdown",
   "metadata": {},
   "source": [
    "Instead of having absolute values (0 or 1) clip the values so anything less than 0.05 becomes 0.05 and anything above 0.95 becomes 0.95\n",
    "np.clip(preds[:,1], 0.05, 0.95)"
   ]
  },
  {
   "cell_type": "markdown",
   "metadata": {},
   "source": [
    "After each epoch, you can save the model weights in case you end up overfitting... then you can go back to a step in the middle\n",
    "vgg.model.save_weights"
   ]
  },
  {
   "cell_type": "markdown",
   "metadata": {},
   "source": [
    "Halfway through the epochs, change the learning rate from 0.1 to 0.01\n",
    "vgg.model.optimizer.lr = 0.01"
   ]
  },
  {
   "cell_type": "markdown",
   "metadata": {},
   "source": [
    "Results get more accurate and confident as you run more epochs"
   ]
  },
  {
   "cell_type": "code",
   "execution_count": 35,
   "metadata": {},
   "outputs": [],
   "source": [
    "import numpy as np\n",
    "from tensorflow import keras\n",
    "from tensorflow.keras.models import Sequential\n",
    "from tensorflow.keras.layers import Dense\n",
    "from tensorflow.keras.optimizers import SGD"
   ]
  },
  {
   "cell_type": "code",
   "execution_count": 36,
   "metadata": {},
   "outputs": [],
   "source": [
    "x = np.random.random((30,2))\n",
    "y = np.dot(x, [2.,3.]) + 1."
   ]
  },
  {
   "cell_type": "code",
   "execution_count": 37,
   "metadata": {},
   "outputs": [
    {
     "data": {
      "text/plain": [
       "array([[0.25709044, 0.5276544 ],\n",
       "       [0.54641298, 0.930478  ],\n",
       "       [0.77481884, 0.86235503],\n",
       "       [0.88355727, 0.59494145],\n",
       "       [0.74826258, 0.8916664 ]])"
      ]
     },
     "execution_count": 37,
     "metadata": {},
     "output_type": "execute_result"
    }
   ],
   "source": [
    "x[:5]"
   ]
  },
  {
   "cell_type": "code",
   "execution_count": 38,
   "metadata": {},
   "outputs": [
    {
     "data": {
      "text/plain": [
       "array([3.09714407, 4.88425998, 5.13670276, 4.55193891, 5.17152436])"
      ]
     },
     "execution_count": 38,
     "metadata": {},
     "output_type": "execute_result"
    }
   ],
   "source": [
    "y[:5]"
   ]
  },
  {
   "cell_type": "code",
   "execution_count": 39,
   "metadata": {},
   "outputs": [],
   "source": [
    "lm = Sequential([ Dense(1, input_shape=(2,))])"
   ]
  },
  {
   "cell_type": "code",
   "execution_count": 40,
   "metadata": {},
   "outputs": [],
   "source": [
    "lm.compile(optimizer=SGD(lr=0.1), loss='mse')"
   ]
  },
  {
   "cell_type": "code",
   "execution_count": 41,
   "metadata": {},
   "outputs": [
    {
     "data": {
      "text/plain": [
       "22.179643630981445"
      ]
     },
     "execution_count": 41,
     "metadata": {},
     "output_type": "execute_result"
    }
   ],
   "source": [
    "lm.evaluate(x, y, verbose=0)"
   ]
  },
  {
   "cell_type": "code",
   "execution_count": 42,
   "metadata": {
    "scrolled": true
   },
   "outputs": [
    {
     "name": "stdout",
     "output_type": "stream",
     "text": [
      "Train on 30 samples\n",
      "Epoch 1/50\n",
      "30/30 [==============================] - 0s 4ms/sample - loss: 12.9626\n",
      "Epoch 2/50\n",
      "30/30 [==============================] - 0s 166us/sample - loss: 1.9192\n",
      "Epoch 3/50\n",
      "30/30 [==============================] - 0s 132us/sample - loss: 0.6784\n",
      "Epoch 4/50\n",
      "30/30 [==============================] - 0s 166us/sample - loss: 0.5003\n",
      "Epoch 5/50\n",
      "30/30 [==============================] - 0s 166us/sample - loss: 0.4647\n",
      "Epoch 6/50\n",
      "30/30 [==============================] - 0s 132us/sample - loss: 0.4189\n",
      "Epoch 7/50\n",
      "30/30 [==============================] - 0s 166us/sample - loss: 0.3870\n",
      "Epoch 8/50\n",
      "30/30 [==============================] - 0s 133us/sample - loss: 0.3534\n",
      "Epoch 9/50\n",
      "30/30 [==============================] - 0s 166us/sample - loss: 0.3296\n",
      "Epoch 10/50\n",
      "30/30 [==============================] - 0s 133us/sample - loss: 0.3137\n",
      "Epoch 11/50\n",
      "30/30 [==============================] - 0s 133us/sample - loss: 0.2804\n",
      "Epoch 12/50\n",
      "30/30 [==============================] - 0s 167us/sample - loss: 0.2584\n",
      "Epoch 13/50\n",
      "30/30 [==============================] - 0s 133us/sample - loss: 0.2422\n",
      "Epoch 14/50\n",
      "30/30 [==============================] - 0s 166us/sample - loss: 0.2262\n",
      "Epoch 15/50\n",
      "30/30 [==============================] - 0s 166us/sample - loss: 0.2027\n",
      "Epoch 16/50\n",
      "30/30 [==============================] - 0s 166us/sample - loss: 0.1896\n",
      "Epoch 17/50\n",
      "30/30 [==============================] - 0s 167us/sample - loss: 0.1733\n",
      "Epoch 18/50\n",
      "30/30 [==============================] - 0s 99us/sample - loss: 0.1622\n",
      "Epoch 19/50\n",
      "30/30 [==============================] - 0s 167us/sample - loss: 0.1524\n",
      "Epoch 20/50\n",
      "30/30 [==============================] - 0s 132us/sample - loss: 0.1404\n",
      "Epoch 21/50\n",
      "30/30 [==============================] - 0s 166us/sample - loss: 0.1314\n",
      "Epoch 22/50\n",
      "30/30 [==============================] - 0s 133us/sample - loss: 0.1210\n",
      "Epoch 23/50\n",
      "30/30 [==============================] - 0s 133us/sample - loss: 0.1078\n",
      "Epoch 24/50\n",
      "30/30 [==============================] - 0s 166us/sample - loss: 0.0995\n",
      "Epoch 25/50\n",
      "30/30 [==============================] - 0s 133us/sample - loss: 0.0975\n",
      "Epoch 26/50\n",
      "30/30 [==============================] - 0s 132us/sample - loss: 0.0860\n",
      "Epoch 27/50\n",
      "30/30 [==============================] - 0s 166us/sample - loss: 0.0798\n",
      "Epoch 28/50\n",
      "30/30 [==============================] - 0s 133us/sample - loss: 0.0731\n",
      "Epoch 29/50\n",
      "30/30 [==============================] - 0s 166us/sample - loss: 0.0701\n",
      "Epoch 30/50\n",
      "30/30 [==============================] - 0s 134us/sample - loss: 0.0635\n",
      "Epoch 31/50\n",
      "30/30 [==============================] - 0s 166us/sample - loss: 0.0582\n",
      "Epoch 32/50\n",
      "30/30 [==============================] - 0s 199us/sample - loss: 0.0544\n",
      "Epoch 33/50\n",
      "30/30 [==============================] - 0s 132us/sample - loss: 0.0493\n",
      "Epoch 34/50\n",
      "30/30 [==============================] - 0s 199us/sample - loss: 0.0465\n",
      "Epoch 35/50\n",
      "30/30 [==============================] - 0s 133us/sample - loss: 0.0425\n",
      "Epoch 36/50\n",
      "30/30 [==============================] - 0s 132us/sample - loss: 0.0400\n",
      "Epoch 37/50\n",
      "30/30 [==============================] - 0s 133us/sample - loss: 0.0363\n",
      "Epoch 38/50\n",
      "30/30 [==============================] - 0s 100us/sample - loss: 0.0335\n",
      "Epoch 39/50\n",
      "30/30 [==============================] - 0s 200us/sample - loss: 0.0311\n",
      "Epoch 40/50\n",
      "30/30 [==============================] - 0s 133us/sample - loss: 0.0296\n",
      "Epoch 41/50\n",
      "30/30 [==============================] - 0s 166us/sample - loss: 0.0266\n",
      "Epoch 42/50\n",
      "30/30 [==============================] - 0s 166us/sample - loss: 0.0255\n",
      "Epoch 43/50\n",
      "30/30 [==============================] - 0s 133us/sample - loss: 0.0228\n",
      "Epoch 44/50\n",
      "30/30 [==============================] - 0s 166us/sample - loss: 0.0210\n",
      "Epoch 45/50\n",
      "30/30 [==============================] - 0s 100us/sample - loss: 0.0198\n",
      "Epoch 46/50\n",
      "30/30 [==============================] - 0s 166us/sample - loss: 0.0185\n",
      "Epoch 47/50\n",
      "30/30 [==============================] - 0s 166us/sample - loss: 0.0170\n",
      "Epoch 48/50\n",
      "30/30 [==============================] - 0s 133us/sample - loss: 0.0159\n",
      "Epoch 49/50\n",
      "30/30 [==============================] - 0s 166us/sample - loss: 0.0151\n",
      "Epoch 50/50\n",
      "30/30 [==============================] - 0s 132us/sample - loss: 0.0132\n"
     ]
    },
    {
     "data": {
      "text/plain": [
       "<tensorflow.python.keras.callbacks.History at 0x1f3212e7160>"
      ]
     },
     "execution_count": 42,
     "metadata": {},
     "output_type": "execute_result"
    }
   ],
   "source": [
    "lm.fit(x, y, epochs=50, batch_size=10)"
   ]
  },
  {
   "cell_type": "code",
   "execution_count": 43,
   "metadata": {},
   "outputs": [
    {
     "data": {
      "text/plain": [
       "0.012495395727455616"
      ]
     },
     "execution_count": 43,
     "metadata": {},
     "output_type": "execute_result"
    }
   ],
   "source": [
    "lm.evaluate(x, y, verbose=0)"
   ]
  },
  {
   "cell_type": "code",
   "execution_count": 44,
   "metadata": {
    "scrolled": true
   },
   "outputs": [
    {
     "data": {
      "text/plain": [
       "[array([[1.7023187],\n",
       "        [2.8139684]], dtype=float32), array([1.2720194], dtype=float32)]"
      ]
     },
     "execution_count": 44,
     "metadata": {},
     "output_type": "execute_result"
    }
   ],
   "source": [
    "lm.get_weights()"
   ]
  },
  {
   "cell_type": "code",
   "execution_count": 45,
   "metadata": {},
   "outputs": [
    {
     "name": "stdout",
     "output_type": "stream",
     "text": [
      "Model: \"sequential_1\"\n",
      "_________________________________________________________________\n",
      "Layer (type)                 Output Shape              Param #   \n",
      "=================================================================\n",
      "dense_1 (Dense)              (None, 1)                 3         \n",
      "=================================================================\n",
      "Total params: 3\n",
      "Trainable params: 3\n",
      "Non-trainable params: 0\n",
      "_________________________________________________________________\n"
     ]
    }
   ],
   "source": [
    "lm.summary()"
   ]
  },
  {
   "cell_type": "code",
   "execution_count": null,
   "metadata": {},
   "outputs": [],
   "source": []
  }
 ],
 "metadata": {
  "kernelspec": {
   "display_name": "Python 3",
   "language": "python",
   "name": "python3"
  },
  "language_info": {
   "codemirror_mode": {
    "name": "ipython",
    "version": 3
   },
   "file_extension": ".py",
   "mimetype": "text/x-python",
   "name": "python",
   "nbconvert_exporter": "python",
   "pygments_lexer": "ipython3",
   "version": "3.6.8"
  }
 },
 "nbformat": 4,
 "nbformat_minor": 2
}
