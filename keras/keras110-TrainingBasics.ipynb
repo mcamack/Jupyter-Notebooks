{
 "cells": [
  {
   "cell_type": "markdown",
   "metadata": {},
   "source": [
    "# Neural Network Training\n",
    "This notebook will summarize general approaches and strategies to deal with issues in training a neural network. Resources:\n",
    "* [Stanford CS231n CNN Course](http://cs231n.github.io/convolutional-networks/)\n",
    "* [FastAI Lesson 3](http://wiki.fast.ai/index.php/Lesson_3_Notes)"
   ]
  },
  {
   "cell_type": "markdown",
   "metadata": {},
   "source": [
    "## ----- Architecture Sizing ------------------------------------------------------------\n",
    "* Deeper networks (more than 4 layers) usually do not help, except when there are very complex patterns like with convolutional neural networks.\n",
    "* Regularization strength is the preferred way to control overfitting, not adjusting the number of neurons."
   ]
  },
  {
   "cell_type": "markdown",
   "metadata": {},
   "source": [
    "## ----- Underfitting ----------------------------------------------------------------------\n",
    "Model lacks complexity and does not fit the data very well (lower accuracy, higher loss). Validation set accuracy may be higher than the training set.\n",
    "##### [Solution]\n",
    "* Decrease or eliminate Dropout"
   ]
  },
  {
   "cell_type": "markdown",
   "metadata": {},
   "source": [
    "## ----- Overfitting ------------------------------------------------------------------------\n",
    "Model has been trained too long and has learned the dataset. It does not generalize well to new data it hasn't seen before. Training accuracy is higher than validation accuracy.\n",
    "##### [Solution]\n",
    "* **More Data** - if you can find it  \n",
    "* **Data Augmentation** - minor alterations to batches so it isn't exactly the same\n",
    "* **Batch Normalization** - prevent an imbalanced data point from exploding the optimization process\n",
    " * subtract the mean and divide by standard deviation\n",
    "* Reduce Architecture complexity  "
   ]
  },
  {
   "cell_type": "markdown",
   "metadata": {},
   "source": [
    "## ----- Fine Tuning ----------------------------------------------------------------------\n",
    "Pop off the last dense classification layer to allow an already trained model to predict for a different set of outputs. All the previous layers can be frozen which means their weights don't get updated, however everything they've learned can be applied to a new classification task."
   ]
  },
  {
   "cell_type": "markdown",
   "metadata": {},
   "source": [
    "## ----- Training Time -------------------------------------------------------------------\n",
    "* If CNN has been fully trained, then pre-calculate the outputs from the CONV layers and just use those as inputs to the updated final Dense layers"
   ]
  },
  {
   "cell_type": "code",
   "execution_count": null,
   "metadata": {
    "collapsed": true
   },
   "outputs": [],
   "source": []
  }
 ],
 "metadata": {
  "kernelspec": {
   "display_name": "Python 3",
   "language": "python",
   "name": "python3"
  },
  "language_info": {
   "codemirror_mode": {
    "name": "ipython",
    "version": 3
   },
   "file_extension": ".py",
   "mimetype": "text/x-python",
   "name": "python",
   "nbconvert_exporter": "python",
   "pygments_lexer": "ipython3",
   "version": "3.6.6"
  },
  "toc": {
   "base_numbering": 1,
   "nav_menu": {},
   "number_sections": true,
   "sideBar": true,
   "skip_h1_title": false,
   "title_cell": "Table of Contents",
   "title_sidebar": "Contents",
   "toc_cell": false,
   "toc_position": {},
   "toc_section_display": true,
   "toc_window_display": false
  }
 },
 "nbformat": 4,
 "nbformat_minor": 2
}
