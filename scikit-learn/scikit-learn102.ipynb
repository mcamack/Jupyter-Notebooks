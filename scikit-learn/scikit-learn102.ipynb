{
 "cells": [
  {
   "cell_type": "markdown",
   "metadata": {},
   "source": [
    "# Multiclass Classification"
   ]
  },
  {
   "cell_type": "markdown",
   "metadata": {},
   "source": [
    "## One-vs-All"
   ]
  },
  {
   "cell_type": "code",
   "execution_count": 46,
   "metadata": {
    "collapsed": true
   },
   "outputs": [],
   "source": [
    "import numpy as np\n",
    "import matplotlib.pyplot as plt\n",
    "from sklearn.svm import SVC\n",
    "from sklearn.multiclass import OneVsRestClassifier\n",
    "from sklearn.preprocessing import LabelBinarizer"
   ]
  },
  {
   "cell_type": "code",
   "execution_count": 47,
   "metadata": {
    "collapsed": true
   },
   "outputs": [],
   "source": [
    "X = [[1,2], [2,4], [4,5], [3,2], [3,1]]\n",
    "y = [0, 0, 1, 1, 2]"
   ]
  },
  {
   "cell_type": "code",
   "execution_count": 48,
   "metadata": {
    "collapsed": false
   },
   "outputs": [
    {
     "data": {
      "text/plain": [
       "array([0, 0, 1, 1, 2])"
      ]
     },
     "execution_count": 48,
     "metadata": {},
     "output_type": "execute_result"
    }
   ],
   "source": [
    "classifier = OneVsRestClassifier(estimator=SVC(random_state=0))\n",
    "classifier.fit(X,y).predict(X)"
   ]
  },
  {
   "cell_type": "code",
   "execution_count": 73,
   "metadata": {
    "collapsed": false
   },
   "outputs": [
    {
     "data": {
      "image/png": "[encoded data removed]",
      "text/plain": [
       "<matplotlib.figure.Figure at 0x7feaa1265550>"
      ]
     },
     "metadata": {},
     "output_type": "display_data"
    }
   ],
   "source": [
    "X = np.random.random(100)\n",
    "Y = np.random.random(100)\n",
    "X1 = np.where(Y <= 0.5)\n",
    "X2 = np.where(Y > 0.5)\n",
    "plt.scatter(X[X1],Y[X1], c='red')\n",
    "plt.scatter(X[X2],Y[X2], c='blue')\n",
    "plt.show()"
   ]
  },
  {
   "cell_type": "code",
   "execution_count": 74,
   "metadata": {
    "collapsed": false
   },
   "outputs": [],
   "source": [
    "Y1 = np.ones(class1[0].size)"
   ]
  },
  {
   "cell_type": "code",
   "execution_count": 75,
   "metadata": {
    "collapsed": false
   },
   "outputs": [],
   "source": [
    "Y2 = 2*np.ones(class2[0].size)"
   ]
  },
  {
   "cell_type": "code",
   "execution_count": 76,
   "metadata": {
    "collapsed": false
   },
   "outputs": [
    {
     "name": "stderr",
     "output_type": "stream",
     "text": [
      "/usr/local/lib/python3.5/dist-packages/sklearn/multiclass.py:76: UserWarning: Label not 1.0 is present in all training examples.\n",
      "  str(classes[c]))\n"
     ]
    },
    {
     "data": {
      "text/plain": [
       "OneVsRestClassifier(estimator=SVC(C=1.0, cache_size=200, class_weight=None, coef0=0.0,\n",
       "  decision_function_shape=None, degree=3, gamma='auto', kernel='linear',\n",
       "  max_iter=-1, probability=False, random_state=None, shrinking=True,\n",
       "  tol=0.001, verbose=False),\n",
       "          n_jobs=1)"
      ]
     },
     "execution_count": 76,
     "metadata": {},
     "output_type": "execute_result"
    }
   ],
   "source": [
    "classifier = OneVsRestClassifier(SVC(kernel='linear'))\n",
    "classifier.fit(X1,Y1)"
   ]
  },
  {
   "cell_type": "code",
   "execution_count": 81,
   "metadata": {
    "collapsed": false
   },
   "outputs": [
    {
     "data": {
      "text/plain": [
       "array([ 0.78539384,  0.79809464,  0.20417736,  0.83368063,  0.62437325,\n",
       "        0.98450916,  0.5539053 ,  0.68059821,  0.93260904,  0.55816342,\n",
       "        0.66853278,  0.55979337,  0.20180813,  0.84287813,  0.26263457,\n",
       "        0.52730844,  0.23413502,  0.82554542,  0.03466213,  0.38028932,\n",
       "        0.72864122,  0.10310369,  0.70448489,  0.42682288,  0.88387001,\n",
       "        0.99710993,  0.98863325,  0.23353091,  0.46948378,  0.89741456,\n",
       "        0.35280117,  0.58785172,  0.77855385,  0.64233864,  0.50457005,\n",
       "        0.03212124,  0.07486854,  0.97740366,  0.99348096,  0.07586042,\n",
       "        0.8945525 ,  0.77607942,  0.88463086,  0.63867283,  0.6067429 ,\n",
       "        0.41275356,  0.03952281,  0.32747   ,  0.25173654,  0.47985207,\n",
       "        0.44985896,  0.80235806,  0.08629613,  0.27889304,  0.29282611,\n",
       "        0.43121479,  0.41244813,  0.19055688,  0.56202505,  0.3893224 ,\n",
       "        0.26429558,  0.48209123,  0.70790228,  0.99244739,  0.46267927,\n",
       "        0.48318869,  0.27107141,  0.42790918,  0.17952233,  0.37251943,\n",
       "        0.87379015,  0.89096401,  0.7078121 ,  0.42363342,  0.77415396,\n",
       "        0.19857736,  0.87954844,  0.67021216,  0.53875244,  0.80940675,\n",
       "        0.73474421,  0.36428714,  0.8044778 ,  0.05771238,  0.66556154,\n",
       "        0.69698094,  0.45894001,  0.04840004,  0.69366197,  0.57072081,\n",
       "        0.38568102,  0.15874474,  0.92537535,  0.88878468,  0.82813609,\n",
       "        0.55077074,  0.93032791,  0.65107002,  0.79871401,  0.74172692])"
      ]
     },
     "execution_count": 81,
     "metadata": {},
     "output_type": "execute_result"
    }
   ],
   "source": [
    "[X,Y][0]"
   ]
  },
  {
   "cell_type": "code",
   "execution_count": null,
   "metadata": {
    "collapsed": true
   },
   "outputs": [],
   "source": []
  }
 ],
 "metadata": {
  "kernelspec": {
   "display_name": "Python 3",
   "language": "python",
   "name": "python3"
  },
  "language_info": {
   "codemirror_mode": {
    "name": "ipython",
    "version": 3
   },
   "file_extension": ".py",
   "mimetype": "text/x-python",
   "name": "python",
   "nbconvert_exporter": "python",
   "pygments_lexer": "ipython3",
   "version": "3.5.2"
  }
 },
 "nbformat": 4,
 "nbformat_minor": 2
}
